{
 "cells": [
  {
   "cell_type": "code",
   "execution_count": 1,
   "metadata": {},
   "outputs": [
    {
     "name": "stderr",
     "output_type": "stream",
     "text": [
      "/home/xinyang/anaconda3/lib/python3.6/site-packages/ipykernel_launcher.py:5: FutureWarning: Sorting because non-concatenation axis is not aligned. A future version\n",
      "of pandas will change to not sort by default.\n",
      "\n",
      "To accept the future behavior, pass 'sort=False'.\n",
      "\n",
      "To retain the current behavior and silence the warning, pass 'sort=True'.\n",
      "\n",
      "  \"\"\"\n",
      "/home/xinyang/anaconda3/lib/python3.6/site-packages/ipykernel_launcher.py:15: FutureWarning: Sorting because non-concatenation axis is not aligned. A future version\n",
      "of pandas will change to not sort by default.\n",
      "\n",
      "To accept the future behavior, pass 'sort=False'.\n",
      "\n",
      "To retain the current behavior and silence the warning, pass 'sort=True'.\n",
      "\n",
      "  from ipykernel import kernelapp as app\n"
     ]
    }
   ],
   "source": [
    "import pandas as pd\n",
    "import numpy as np\n",
    "df=pd.read_csv(\"/home/xinyang/Kaggle/TRD/TRD_Dalyr.csv\",encoding='utf-16',sep='\\t')\n",
    "df2=pd.read_csv(\"/home/xinyang/Kaggle/TRD/TRD_Dalyr1.csv\",encoding='utf-16',sep='\\t')\n",
    "df_con1=pd.concat([df,df2])\n",
    "df4=pd.read_csv(\"/home/xinyang/Kaggle/TRD2/TRD_Dalyr.csv\",encoding='utf-16',sep='\\t')\n",
    "df5=pd.read_csv(\"/home/xinyang/Kaggle/TRD2/TRD_Dalyr1.csv\",encoding='utf-16',sep='\\t')\n",
    "df6=pd.read_csv(\"/home/xinyang/Kaggle/TRD2/TRD_Dalyr2.csv\",encoding='utf-16',sep='\\t')\n",
    "df_con2=pd.concat([df4,df5,df6])\n",
    "df7=pd.read_csv(\"/home/xinyang/Kaggle/TRD3/TRD_Dalyr.csv\",encoding='utf-16',sep='\\t')\n",
    "df8=pd.read_csv(\"/home/xinyang/Kaggle/TRD3/TRD_Dalyr1.csv\",encoding='utf-16',sep='\\t')\n",
    "df9=pd.read_csv(\"/home/xinyang/Kaggle/TRD3/TRD_Dalyr2.csv\",encoding='utf-16',sep='\\t')\n",
    "df10=pd.read_csv(\"/home/xinyang/Kaggle/TRD3/TRD_Dalyr3.csv\",encoding='utf-16',sep='\\t')\n",
    "df_con3=pd.concat([df7,df8,df9,df10])\n",
    "df_con=pd.concat([df_con1,df_con2,df_con3])"
   ]
  },
  {
   "cell_type": "code",
   "execution_count": 2,
   "metadata": {},
   "outputs": [],
   "source": [
    "df3=pd.read_csv(\"/home/xinyang/Kaggle/zcfg/FS_Combas.csv\",encoding='utf-16',sep='\\t')\n",
    "df3=df3.rename(columns={'Accper':'Trddt'})\n",
    "df3['islong'] = 1"
   ]
  },
  {
   "cell_type": "code",
   "execution_count": 3,
   "metadata": {},
   "outputs": [],
   "source": [
    "# Specify the Stkcd number. Use 1 as an example here. \n",
    "df3_1 = df3[df3.Stkcd==1]\n",
    "df_con_1 = df_con[df_con.Stkcd == 1]\n",
    "df_merge_1 = df3_1.merge(df_con_1,on=['Stkcd','Trddt'],how='outer')"
   ]
  },
  {
   "cell_type": "code",
   "execution_count": 4,
   "metadata": {},
   "outputs": [],
   "source": [
    "df_merge_1.sort_values('Trddt',inplace=True)\n",
    "df_merge_1 = df_merge_1.reset_index()\n",
    "df_merge_1 = df_merge_1.drop('index',1)"
   ]
  },
  {
   "cell_type": "code",
   "execution_count": 5,
   "metadata": {},
   "outputs": [],
   "source": [
    "a = df_merge_1.loc[0,'Typrep':'islong']\n",
    "for i in range(3465):\n",
    "    if df_merge_1.loc[i,'islong'] == 1:\n",
    "        a = df_merge_1.loc[i,'Typrep':'islong']\n",
    "    else:\n",
    "        df_merge_1.loc[i,'Typrep':'islong'] = a"
   ]
  },
  {
   "cell_type": "code",
   "execution_count": 6,
   "metadata": {},
   "outputs": [],
   "source": [
    "df_merge_1.dropna(axis=1,how='all')\n",
    "df_merge_1 = df_merge_1.fillna(0)\n",
    "df_merge_1 = df_merge_1.loc[:, (df_merge_1 != 0).any(axis=0)]"
   ]
  },
  {
   "cell_type": "code",
   "execution_count": 7,
   "metadata": {},
   "outputs": [],
   "source": [
    "df1 = df_merge_1['Dretnd']\n",
    "#df_merge_1 = df_merge_1.drop(['Typrep','islong','Trddt','Capchgdt'],axis =1)\n",
    "num_1 = (df_merge_1.loc[:,'A0b1103000':'A004000000']).shape[1]\n",
    "num_2 = (df_merge_1.loc[:,'Adjprcnd':'Trdsta']).shape[1]"
   ]
  },
  {
   "cell_type": "code",
   "execution_count": 8,
   "metadata": {},
   "outputs": [
    {
     "data": {
      "text/plain": [
       "15"
      ]
     },
     "execution_count": 8,
     "metadata": {},
     "output_type": "execute_result"
    }
   ],
   "source": [
    "num_2"
   ]
  },
  {
   "cell_type": "code",
   "execution_count": 9,
   "metadata": {},
   "outputs": [],
   "source": [
    "# Append the dataframe that 10-day's data is merged to one row\n",
    "df_zcfg = df_merge_1.loc[:,'A0b1103000':'A004000000']\n",
    "df_rgg = df_merge_1.loc[:,'Adjprcnd':'Trdsta']\n",
    "for i in range(9):\n",
    "    columns = []\n",
    "    for j in range(num_1):\n",
    "        columns.append(str(i)+'_'+str(j))\n",
    "    df = df_merge_1.iloc[(i+1):,1:(num_1+1)].append(df_merge_1.iloc[:i,1:(num_1+1)])\n",
    "    df.columns= columns\n",
    "    df = df.reset_index(drop=True)\n",
    "    df_zcfg = pd.concat([df_zcfg,df],axis=1) \n",
    "    columns = []\n",
    "    for j in range(num_2):\n",
    "        columns.append(str(i)+'_'+str(j))\n",
    "    df = df_merge_1.iloc[(i+1):,(num_1+1):(num_1+num_2+1)].append(df_merge_1.iloc[:(i+1),(num_1+1):(num_1+num_2+1)])\n",
    "    df.columns= columns\n",
    "    df = df.reset_index(drop=True)\n",
    "    df_rgg = pd.concat([df_rgg,df],axis=1) "
   ]
  },
  {
   "cell_type": "code",
   "execution_count": 10,
   "metadata": {},
   "outputs": [
    {
     "data": {
      "text/plain": [
       "(3465, 640)"
      ]
     },
     "execution_count": 10,
     "metadata": {},
     "output_type": "execute_result"
    }
   ],
   "source": [
    "df_zcfg.shape"
   ]
  },
  {
   "cell_type": "code",
   "execution_count": 11,
   "metadata": {},
   "outputs": [
    {
     "data": {
      "text/plain": [
       "(3465, 150)"
      ]
     },
     "execution_count": 11,
     "metadata": {},
     "output_type": "execute_result"
    }
   ],
   "source": [
    "df_rgg.shape"
   ]
  },
  {
   "cell_type": "code",
   "execution_count": 12,
   "metadata": {},
   "outputs": [],
   "source": [
    "df1.iloc[:(-11)].append(df1.iloc[:11])\n",
    "df1 = df1.reset_index(drop=True)\n",
    "#df_merge_1['goal'] = df1"
   ]
  },
  {
   "cell_type": "code",
   "execution_count": 13,
   "metadata": {},
   "outputs": [],
   "source": [
    "df_zcfg = df_zcfg.iloc[:(-11),:]\n",
    "df_rgg = df_rgg.iloc[:(-11),:]"
   ]
  },
  {
   "cell_type": "code",
   "execution_count": 14,
   "metadata": {},
   "outputs": [],
   "source": [
    "df_zcfg = df_zcfg.reset_index(drop=True)\n",
    "df_rgg = df_rgg.reset_index(drop=True)\n",
    "import featuretools as ft\n",
    "# Create es\n",
    "df_zcfg = df_zcfg.reset_index()\n",
    "df_rgg = df_rgg.reset_index()\n",
    "es1 = ft.EntitySet(id=\"zcfg\")\n",
    "es1 =  es1.entity_from_dataframe(entity_id=\"zcfg\",dataframe=df_zcfg,index=\"index\")\n",
    "es2 = ft.EntitySet(id=\"rgg\")\n",
    "es2 =  es2.entity_from_dataframe(entity_id=\"rgg\",dataframe=df_rgg,index=\"index\")"
   ]
  },
  {
   "cell_type": "code",
   "execution_count": 15,
   "metadata": {},
   "outputs": [],
   "source": [
    "feature_matrix1, feature_defs1 = ft.dfs(entityset=es1, \n",
    "                                       target_entity=\"zcfg\",\n",
    "                                       agg_primitives=[\"max\",\"median\",\"time_since_last\",\"min\",\"avg_time_between\",\n",
    "                                                      \"all\",\"mode\",\"n_most_common\",\"any\",\"mean\",\"time_since_first\"\n",
    "                                                      ,\"percent_true\",\"last\",\"sum\",\"num_true\",\"trend\",\"std\",\"count\"\n",
    "                                                      ,\"num_unique\",\"skew\"],\n",
    "                                      max_depth = 1)"
   ]
  },
  {
   "cell_type": "code",
   "execution_count": 16,
   "metadata": {},
   "outputs": [],
   "source": [
    "feature_matrix2, feature_defs2 = ft.dfs(entityset=es2, \n",
    "                                       target_entity=\"rgg\",\n",
    "                                       agg_primitives=[\"max\",\"median\",\"time_since_last\",\"min\",\"avg_time_between\",\n",
    "                                                      \"all\",\"mode\",\"n_most_common\",\"any\",\"mean\",\"time_since_first\"\n",
    "                                                      ,\"percent_true\",\"last\",\"sum\",\"num_true\",\"trend\",\"std\",\"count\"\n",
    "                                                      ,\"num_unique\",\"skew\"],\n",
    "                                      max_depth = 1)"
   ]
  },
  {
   "cell_type": "code",
   "execution_count": 17,
   "metadata": {},
   "outputs": [],
   "source": [
    "df_input = pd.concat([feature_matrix1,feature_matrix2],axis=1) \n",
    "df_input['goal'] = df1"
   ]
  },
  {
   "cell_type": "code",
   "execution_count": 18,
   "metadata": {},
   "outputs": [
    {
     "data": {
      "text/plain": [
       "(3454, 848)"
      ]
     },
     "execution_count": 18,
     "metadata": {},
     "output_type": "execute_result"
    }
   ],
   "source": [
    "df_input.shape"
   ]
  },
  {
   "cell_type": "code",
   "execution_count": null,
   "metadata": {},
   "outputs": [],
   "source": []
  }
 ],
 "metadata": {
  "@webio": {
   "lastCommId": null,
   "lastKernelId": null
  },
  "kernelspec": {
   "display_name": "Python 3",
   "language": "python",
   "name": "python3"
  },
  "language_info": {
   "codemirror_mode": {
    "name": "ipython",
    "version": 3
   },
   "file_extension": ".py",
   "mimetype": "text/x-python",
   "name": "python",
   "nbconvert_exporter": "python",
   "pygments_lexer": "ipython3",
   "version": "3.6.0"
  }
 },
 "nbformat": 4,
 "nbformat_minor": 2
}
