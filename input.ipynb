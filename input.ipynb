{
 "cells": [
  {
   "cell_type": "code",
   "execution_count": 1,
   "metadata": {},
   "outputs": [
    {
     "name": "stderr",
     "output_type": "stream",
     "text": [
      "/home/xinyang/anaconda3/lib/python3.6/site-packages/ipykernel_launcher.py:5: FutureWarning: Sorting because non-concatenation axis is not aligned. A future version\n",
      "of pandas will change to not sort by default.\n",
      "\n",
      "To accept the future behavior, pass 'sort=False'.\n",
      "\n",
      "To retain the current behavior and silence the warning, pass 'sort=True'.\n",
      "\n",
      "  \"\"\"\n",
      "/home/xinyang/anaconda3/lib/python3.6/site-packages/ipykernel_launcher.py:15: FutureWarning: Sorting because non-concatenation axis is not aligned. A future version\n",
      "of pandas will change to not sort by default.\n",
      "\n",
      "To accept the future behavior, pass 'sort=False'.\n",
      "\n",
      "To retain the current behavior and silence the warning, pass 'sort=True'.\n",
      "\n",
      "  from ipykernel import kernelapp as app\n"
     ]
    }
   ],
   "source": [
    "import pandas as pd\n",
    "import numpy as np\n",
    "df=pd.read_csv(\"/home/xinyang/Kaggle/TRD/TRD_Dalyr.csv\",encoding='utf-16',sep='\\t')\n",
    "df2=pd.read_csv(\"/home/xinyang/Kaggle/TRD/TRD_Dalyr1.csv\",encoding='utf-16',sep='\\t')\n",
    "df_con1=pd.concat([df,df2])\n",
    "df4=pd.read_csv(\"/home/xinyang/Kaggle/TRD2/TRD_Dalyr.csv\",encoding='utf-16',sep='\\t')\n",
    "df5=pd.read_csv(\"/home/xinyang/Kaggle/TRD2/TRD_Dalyr1.csv\",encoding='utf-16',sep='\\t')\n",
    "df6=pd.read_csv(\"/home/xinyang/Kaggle/TRD2/TRD_Dalyr2.csv\",encoding='utf-16',sep='\\t')\n",
    "df_con2=pd.concat([df4,df5,df6])\n",
    "df7=pd.read_csv(\"/home/xinyang/Kaggle/TRD3/TRD_Dalyr.csv\",encoding='utf-16',sep='\\t')\n",
    "df8=pd.read_csv(\"/home/xinyang/Kaggle/TRD3/TRD_Dalyr1.csv\",encoding='utf-16',sep='\\t')\n",
    "df9=pd.read_csv(\"/home/xinyang/Kaggle/TRD3/TRD_Dalyr2.csv\",encoding='utf-16',sep='\\t')\n",
    "df10=pd.read_csv(\"/home/xinyang/Kaggle/TRD3/TRD_Dalyr3.csv\",encoding='utf-16',sep='\\t')\n",
    "df_con3=pd.concat([df7,df8,df9,df10])\n",
    "df_con=pd.concat([df_con1,df_con2,df_con3])"
   ]
  },
  {
   "cell_type": "code",
   "execution_count": 2,
   "metadata": {},
   "outputs": [],
   "source": [
    "df3=pd.read_csv(\"/home/xinyang/Kaggle/zcfg/FS_Combas.csv\",encoding='utf-16',sep='\\t')\n",
    "df3=df3.rename(columns={'Accper':'Trddt'})\n",
    "df3['islong'] = 1"
   ]
  },
  {
   "cell_type": "code",
   "execution_count": 3,
   "metadata": {},
   "outputs": [],
   "source": [
    "# Specify the Stkcd number. Use 1 as an example here. \n",
    "df3_1 = df3[df3.Stkcd==1]\n",
    "df_con_1 = df_con[df_con.Stkcd == 1]\n",
    "df_merge_1 = df3_1.merge(df_con_1,on=['Stkcd','Trddt'],how='outer')"
   ]
  },
  {
   "cell_type": "code",
   "execution_count": 4,
   "metadata": {},
   "outputs": [],
   "source": [
    "df_merge_1.sort_values('Trddt',inplace=True)\n",
    "df_merge_1 = df_merge_1.reset_index()\n",
    "df_merge_1 = df_merge_1.drop('index',1)"
   ]
  },
  {
   "cell_type": "code",
   "execution_count": 5,
   "metadata": {},
   "outputs": [],
   "source": [
    "a = df_merge_1.loc[0,'Typrep':'islong']\n",
    "for i in range(3465):\n",
    "    if df_merge_1.loc[i,'islong'] == 1:\n",
    "        a = df_merge_1.loc[i,'Typrep':'islong']\n",
    "    else:\n",
    "        df_merge_1.loc[i,'Typrep':'islong'] = a"
   ]
  },
  {
   "cell_type": "code",
   "execution_count": 6,
   "metadata": {},
   "outputs": [],
   "source": [
    "df_merge_1.dropna(axis=1,how='all')\n",
    "df_merge_1 = df_merge_1.fillna(0)\n",
    "df_merge_1 = df_merge_1.loc[:, (df_merge_1 != 0).any(axis=0)]"
   ]
  },
  {
   "cell_type": "code",
   "execution_count": 7,
   "metadata": {},
   "outputs": [],
   "source": [
    "df_merge_1 = df_merge_1.drop(['Trddt','Typrep','Capchgdt'],axis =1)"
   ]
  },
  {
   "cell_type": "code",
   "execution_count": 8,
   "metadata": {},
   "outputs": [],
   "source": [
    "# Append the dataframe that 10-day's data is merged to one row\n",
    "num = df_merge_1.shape[1]-1\n",
    "for i in range(9):\n",
    "    columns = []\n",
    "    for j in range(num):\n",
    "        columns.append(str(i)+'_'+str(j))\n",
    "    df = df_merge_1.iloc[:(-i-1):,1:(num+1)].append(df_merge_1.iloc[:(i+1),1:(num+1)])\n",
    "    df.columns= columns\n",
    "    df = df.reset_index(drop=True)\n",
    "    df_merge_1 = pd.concat([df_merge_1,df],axis=1)   "
   ]
  },
  {
   "cell_type": "code",
   "execution_count": 9,
   "metadata": {},
   "outputs": [
    {
     "data": {
      "text/plain": [
       "(3465, 791)"
      ]
     },
     "execution_count": 9,
     "metadata": {},
     "output_type": "execute_result"
    }
   ],
   "source": [
    "df_merge_1.shape"
   ]
  },
  {
   "cell_type": "code",
   "execution_count": 10,
   "metadata": {},
   "outputs": [
    {
     "data": {
      "text/html": [
       "<div>\n",
       "<style scoped>\n",
       "    .dataframe tbody tr th:only-of-type {\n",
       "        vertical-align: middle;\n",
       "    }\n",
       "\n",
       "    .dataframe tbody tr th {\n",
       "        vertical-align: top;\n",
       "    }\n",
       "\n",
       "    .dataframe thead th {\n",
       "        text-align: right;\n",
       "    }\n",
       "</style>\n",
       "<table border=\"1\" class=\"dataframe\">\n",
       "  <thead>\n",
       "    <tr style=\"text-align: right;\">\n",
       "      <th></th>\n",
       "      <th>Stkcd</th>\n",
       "      <th>A0b1103000</th>\n",
       "      <th>A0b1104000</th>\n",
       "      <th>A0b1105000</th>\n",
       "      <th>A0f1106000</th>\n",
       "      <th>A001107000</th>\n",
       "      <th>A0f1108000</th>\n",
       "      <th>A001109000</th>\n",
       "      <th>A001111000</th>\n",
       "      <th>A001112000</th>\n",
       "      <th>...</th>\n",
       "      <th>8_69</th>\n",
       "      <th>8_70</th>\n",
       "      <th>8_71</th>\n",
       "      <th>8_72</th>\n",
       "      <th>8_73</th>\n",
       "      <th>8_74</th>\n",
       "      <th>8_75</th>\n",
       "      <th>8_76</th>\n",
       "      <th>8_77</th>\n",
       "      <th>8_78</th>\n",
       "    </tr>\n",
       "  </thead>\n",
       "  <tbody>\n",
       "    <tr>\n",
       "      <th>0</th>\n",
       "      <td>1</td>\n",
       "      <td>1.910729e+10</td>\n",
       "      <td>5.236464e+09</td>\n",
       "      <td>0.0</td>\n",
       "      <td>3.023113e+09</td>\n",
       "      <td>0.0</td>\n",
       "      <td>0.0</td>\n",
       "      <td>1.104687e+10</td>\n",
       "      <td>-717910679.0</td>\n",
       "      <td>52785247.0</td>\n",
       "      <td>...</td>\n",
       "      <td>0.0</td>\n",
       "      <td>0.000000</td>\n",
       "      <td>0.000000</td>\n",
       "      <td>0.00</td>\n",
       "      <td>0.00</td>\n",
       "      <td>0.00</td>\n",
       "      <td>0.00</td>\n",
       "      <td>0.0</td>\n",
       "      <td>0.00</td>\n",
       "      <td>0.0</td>\n",
       "    </tr>\n",
       "    <tr>\n",
       "      <th>1</th>\n",
       "      <td>1</td>\n",
       "      <td>1.910729e+10</td>\n",
       "      <td>5.236464e+09</td>\n",
       "      <td>0.0</td>\n",
       "      <td>3.023113e+09</td>\n",
       "      <td>0.0</td>\n",
       "      <td>0.0</td>\n",
       "      <td>1.104687e+10</td>\n",
       "      <td>-717910679.0</td>\n",
       "      <td>52785247.0</td>\n",
       "      <td>...</td>\n",
       "      <td>11465602.0</td>\n",
       "      <td>-0.010622</td>\n",
       "      <td>-0.010622</td>\n",
       "      <td>9189040.01</td>\n",
       "      <td>12686760.41</td>\n",
       "      <td>6.59</td>\n",
       "      <td>6.46</td>\n",
       "      <td>4.0</td>\n",
       "      <td>6.59</td>\n",
       "      <td>1.0</td>\n",
       "    </tr>\n",
       "    <tr>\n",
       "      <th>2</th>\n",
       "      <td>1</td>\n",
       "      <td>1.910729e+10</td>\n",
       "      <td>5.236464e+09</td>\n",
       "      <td>0.0</td>\n",
       "      <td>3.023113e+09</td>\n",
       "      <td>0.0</td>\n",
       "      <td>0.0</td>\n",
       "      <td>1.104687e+10</td>\n",
       "      <td>-717910679.0</td>\n",
       "      <td>52785247.0</td>\n",
       "      <td>...</td>\n",
       "      <td>20718558.0</td>\n",
       "      <td>-0.009202</td>\n",
       "      <td>-0.009202</td>\n",
       "      <td>9104478.29</td>\n",
       "      <td>12570011.08</td>\n",
       "      <td>6.55</td>\n",
       "      <td>6.35</td>\n",
       "      <td>4.0</td>\n",
       "      <td>6.52</td>\n",
       "      <td>1.0</td>\n",
       "    </tr>\n",
       "    <tr>\n",
       "      <th>3</th>\n",
       "      <td>1</td>\n",
       "      <td>1.910729e+10</td>\n",
       "      <td>5.236464e+09</td>\n",
       "      <td>0.0</td>\n",
       "      <td>3.023113e+09</td>\n",
       "      <td>0.0</td>\n",
       "      <td>0.0</td>\n",
       "      <td>1.104687e+10</td>\n",
       "      <td>-717910679.0</td>\n",
       "      <td>52785247.0</td>\n",
       "      <td>...</td>\n",
       "      <td>17333840.0</td>\n",
       "      <td>0.009288</td>\n",
       "      <td>0.009288</td>\n",
       "      <td>9189040.01</td>\n",
       "      <td>12686760.41</td>\n",
       "      <td>6.59</td>\n",
       "      <td>6.45</td>\n",
       "      <td>4.0</td>\n",
       "      <td>6.50</td>\n",
       "      <td>1.0</td>\n",
       "    </tr>\n",
       "    <tr>\n",
       "      <th>4</th>\n",
       "      <td>1</td>\n",
       "      <td>1.910729e+10</td>\n",
       "      <td>5.236464e+09</td>\n",
       "      <td>0.0</td>\n",
       "      <td>3.023113e+09</td>\n",
       "      <td>0.0</td>\n",
       "      <td>0.0</td>\n",
       "      <td>1.104687e+10</td>\n",
       "      <td>-717910679.0</td>\n",
       "      <td>52785247.0</td>\n",
       "      <td>...</td>\n",
       "      <td>12302853.0</td>\n",
       "      <td>-0.001534</td>\n",
       "      <td>-0.001534</td>\n",
       "      <td>9174946.39</td>\n",
       "      <td>12667302.19</td>\n",
       "      <td>6.60</td>\n",
       "      <td>6.46</td>\n",
       "      <td>4.0</td>\n",
       "      <td>6.58</td>\n",
       "      <td>1.0</td>\n",
       "    </tr>\n",
       "  </tbody>\n",
       "</table>\n",
       "<p>5 rows × 791 columns</p>\n",
       "</div>"
      ],
      "text/plain": [
       "   Stkcd    A0b1103000    A0b1104000  A0b1105000    A0f1106000  A001107000  \\\n",
       "0      1  1.910729e+10  5.236464e+09         0.0  3.023113e+09         0.0   \n",
       "1      1  1.910729e+10  5.236464e+09         0.0  3.023113e+09         0.0   \n",
       "2      1  1.910729e+10  5.236464e+09         0.0  3.023113e+09         0.0   \n",
       "3      1  1.910729e+10  5.236464e+09         0.0  3.023113e+09         0.0   \n",
       "4      1  1.910729e+10  5.236464e+09         0.0  3.023113e+09         0.0   \n",
       "\n",
       "   A0f1108000    A001109000   A001111000  A001112000  ...        8_69  \\\n",
       "0         0.0  1.104687e+10 -717910679.0  52785247.0  ...         0.0   \n",
       "1         0.0  1.104687e+10 -717910679.0  52785247.0  ...  11465602.0   \n",
       "2         0.0  1.104687e+10 -717910679.0  52785247.0  ...  20718558.0   \n",
       "3         0.0  1.104687e+10 -717910679.0  52785247.0  ...  17333840.0   \n",
       "4         0.0  1.104687e+10 -717910679.0  52785247.0  ...  12302853.0   \n",
       "\n",
       "       8_70      8_71        8_72         8_73  8_74  8_75  8_76  8_77  8_78  \n",
       "0  0.000000  0.000000        0.00         0.00  0.00  0.00   0.0  0.00   0.0  \n",
       "1 -0.010622 -0.010622  9189040.01  12686760.41  6.59  6.46   4.0  6.59   1.0  \n",
       "2 -0.009202 -0.009202  9104478.29  12570011.08  6.55  6.35   4.0  6.52   1.0  \n",
       "3  0.009288  0.009288  9189040.01  12686760.41  6.59  6.45   4.0  6.50   1.0  \n",
       "4 -0.001534 -0.001534  9174946.39  12667302.19  6.60  6.46   4.0  6.58   1.0  \n",
       "\n",
       "[5 rows x 791 columns]"
      ]
     },
     "execution_count": 10,
     "metadata": {},
     "output_type": "execute_result"
    }
   ],
   "source": [
    "df_merge_1.head()"
   ]
  },
  {
   "cell_type": "code",
   "execution_count": 27,
   "metadata": {},
   "outputs": [],
   "source": [
    "df = df_merge_1.loc[:,'Dretnd']\n",
    "df.iloc[:(-11)].append(df.iloc[:11])\n",
    "df = df.reset_index(drop=True)\n",
    "df_merge_1['goal'] = df"
   ]
  },
  {
   "cell_type": "code",
   "execution_count": 32,
   "metadata": {},
   "outputs": [],
   "source": [
    "import featuretools as ft\n",
    "# Create es\n",
    "es = ft.EntitySet(id=\"rigegu\")\n",
    "df_first = df_merge_1.loc[:,'A0b1103000':'Trdsta']\n",
    "df_first = df_first.reset_index()\n",
    "es =  es.entity_from_dataframe(entity_id=\"first\",dataframe=df_first,index = \"index\")"
   ]
  },
  {
   "cell_type": "code",
   "execution_count": 35,
   "metadata": {},
   "outputs": [],
   "source": [
    "df_second = df_merge_1.loc[:,'0_0':'0_78']\n",
    "df_second = df_second.reset_index()\n",
    "es =  es.entity_from_dataframe(entity_id=\"second\",dataframe=df_second,index = \"index\")\n",
    "df_third = df_merge_1.loc[:,'1_0':'1_78']\n",
    "df_third = df_third.reset_index()\n",
    "es =  es.entity_from_dataframe(entity_id=\"third\",dataframe=df_third,index = \"index\")\n",
    "df_fourth = df_merge_1.loc[:,'2_0':'2_78']\n",
    "df_fourth = df_fourth.reset_index()\n",
    "es =  es.entity_from_dataframe(entity_id=\"fourth\",dataframe=df_fourth,index = \"index\")\n",
    "df_fifth = df_merge_1.loc[:,'3_0':'3_78']\n",
    "df_fifth = df_fifth.reset_index()\n",
    "es =  es.entity_from_dataframe(entity_id=\"fifth\",dataframe=df_fifth,index = \"index\")\n",
    "df_sixth = df_merge_1.loc[:,'4_0':'4_78']\n",
    "df_sixth = df_sixth.reset_index()\n",
    "es =  es.entity_from_dataframe(entity_id=\"sixth\",dataframe=df_sixth,index = \"index\")\n",
    "df_seventh = df_merge_1.loc[:,'5_0':'5_78']\n",
    "df_seventh = df_seventh.reset_index()\n",
    "es =  es.entity_from_dataframe(entity_id=\"seventh\",dataframe=df_seventh,index = \"index\")\n",
    "df_eighth = df_merge_1.loc[:,'6_0':'6_78']\n",
    "df_eighth = df_eighth.reset_index()\n",
    "es =  es.entity_from_dataframe(entity_id=\"eighth\",dataframe=df_eighth,index = \"index\")\n",
    "df_ninth = df_merge_1.loc[:,'7_0':'7_78']\n",
    "df_ninth = df_ninth.reset_index()\n",
    "es =  es.entity_from_dataframe(entity_id=\"ninth\",dataframe=df_ninth,index = \"index\")\n",
    "df_tenth = df_merge_1.loc[:,'8_0':'8_78']\n",
    "df_tenth = df_tenth.reset_index()\n",
    "es =  es.entity_from_dataframe(entity_id=\"tenth\",dataframe=df_tenth,index = \"index\")\n",
    "df_goal = df_merge_1['goal']\n",
    "df_goal = df_goal.reset_index()\n",
    "es =  es.entity_from_dataframe(entity_id=\"goal\",dataframe=df_goal,index = \"index\")"
   ]
  },
  {
   "cell_type": "code",
   "execution_count": 36,
   "metadata": {},
   "outputs": [],
   "source": [
    " feature_matrix, feature_defs = ft.dfs(entityset=es, \n",
    "                                       target_entity=\"goal\",\n",
    "                                       agg_primitives=[\"max\",\"median\",\"time_since_last\",\"min\",\"avg_time_between\",\n",
    "                                                      \"all\",\"mode\",\"n_most_common\",\"any\",\"mean\",\"time_since_first\"\n",
    "                                                      ,\"percent_true\",\"last\",\"sum\",\"num_true\",\"trend\",\"std\",\"count\"\n",
    "                                                      ,\"num_unique\",\"skew\"],\n",
    "                                      max_depth = 3)"
   ]
  },
  {
   "cell_type": "code",
   "execution_count": 38,
   "metadata": {},
   "outputs": [
    {
     "data": {
      "text/plain": [
       "Entityset: rigegu\n",
       "  Entities:\n",
       "    first [Rows: 3465, Columns: 80]\n",
       "    second [Rows: 3465, Columns: 80]\n",
       "    third [Rows: 3465, Columns: 80]\n",
       "    fourth [Rows: 3465, Columns: 80]\n",
       "    fifth [Rows: 3465, Columns: 80]\n",
       "    sixth [Rows: 3465, Columns: 80]\n",
       "    seventh [Rows: 3465, Columns: 80]\n",
       "    eighth [Rows: 3465, Columns: 80]\n",
       "    ninth [Rows: 3465, Columns: 80]\n",
       "    tenth [Rows: 3465, Columns: 80]\n",
       "    goal [Rows: 3465, Columns: 2]\n",
       "  Relationships:\n",
       "    No relationships"
      ]
     },
     "execution_count": 38,
     "metadata": {},
     "output_type": "execute_result"
    }
   ],
   "source": [
    "es"
   ]
  },
  {
   "cell_type": "code",
   "execution_count": null,
   "metadata": {},
   "outputs": [],
   "source": []
  }
 ],
 "metadata": {
  "@webio": {
   "lastCommId": null,
   "lastKernelId": null
  },
  "kernelspec": {
   "display_name": "Python 3",
   "language": "python",
   "name": "python3"
  },
  "language_info": {
   "codemirror_mode": {
    "name": "ipython",
    "version": 3
   },
   "file_extension": ".py",
   "mimetype": "text/x-python",
   "name": "python",
   "nbconvert_exporter": "python",
   "pygments_lexer": "ipython3",
   "version": "3.6.0"
  }
 },
 "nbformat": 4,
 "nbformat_minor": 2
}
