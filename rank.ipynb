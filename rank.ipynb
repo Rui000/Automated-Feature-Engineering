{
 "cells": [
  {
   "cell_type": "code",
   "execution_count": 1,
   "metadata": {},
   "outputs": [
    {
     "name": "stderr",
     "output_type": "stream",
     "text": [
      "/home/xinyang/anaconda3/lib/python3.6/site-packages/ipykernel_launcher.py:5: FutureWarning: Sorting because non-concatenation axis is not aligned. A future version\n",
      "of pandas will change to not sort by default.\n",
      "\n",
      "To accept the future behavior, pass 'sort=False'.\n",
      "\n",
      "To retain the current behavior and silence the warning, pass 'sort=True'.\n",
      "\n",
      "  \"\"\"\n",
      "/home/xinyang/anaconda3/lib/python3.6/site-packages/ipykernel_launcher.py:15: FutureWarning: Sorting because non-concatenation axis is not aligned. A future version\n",
      "of pandas will change to not sort by default.\n",
      "\n",
      "To accept the future behavior, pass 'sort=False'.\n",
      "\n",
      "To retain the current behavior and silence the warning, pass 'sort=True'.\n",
      "\n",
      "  from ipykernel import kernelapp as app\n"
     ]
    }
   ],
   "source": [
    "import pandas as pd\n",
    "import numpy as np\n",
    "df=pd.read_csv(\"/home/xinyang/Kaggle/TRD/TRD_Dalyr.csv\",encoding='utf-16',sep='\\t')\n",
    "df2=pd.read_csv(\"/home/xinyang/Kaggle/TRD/TRD_Dalyr1.csv\",encoding='utf-16',sep='\\t')\n",
    "df_con1=pd.concat([df,df2])\n",
    "df4=pd.read_csv(\"/home/xinyang/Kaggle/TRD2/TRD_Dalyr.csv\",encoding='utf-16',sep='\\t')\n",
    "df5=pd.read_csv(\"/home/xinyang/Kaggle/TRD2/TRD_Dalyr1.csv\",encoding='utf-16',sep='\\t')\n",
    "df6=pd.read_csv(\"/home/xinyang/Kaggle/TRD2/TRD_Dalyr2.csv\",encoding='utf-16',sep='\\t')\n",
    "df_con2=pd.concat([df4,df5,df6])\n",
    "df7=pd.read_csv(\"/home/xinyang/Kaggle/TRD3/TRD_Dalyr.csv\",encoding='utf-16',sep='\\t')\n",
    "df8=pd.read_csv(\"/home/xinyang/Kaggle/TRD3/TRD_Dalyr1.csv\",encoding='utf-16',sep='\\t')\n",
    "df9=pd.read_csv(\"/home/xinyang/Kaggle/TRD3/TRD_Dalyr2.csv\",encoding='utf-16',sep='\\t')\n",
    "df10=pd.read_csv(\"/home/xinyang/Kaggle/TRD3/TRD_Dalyr3.csv\",encoding='utf-16',sep='\\t')\n",
    "df_con3=pd.concat([df7,df8,df9,df10])\n",
    "df_con_all=pd.concat([df_con1,df_con2,df_con3])"
   ]
  },
  {
   "cell_type": "code",
   "execution_count": 2,
   "metadata": {},
   "outputs": [
    {
     "data": {
      "text/plain": [
       "(8017367, 18)"
      ]
     },
     "execution_count": 2,
     "metadata": {},
     "output_type": "execute_result"
    }
   ],
   "source": [
    "df_con = df_con_all.sort_values(by=['Trddt'])\n",
    "df_con.shape"
   ]
  },
  {
   "cell_type": "code",
   "execution_count": 3,
   "metadata": {},
   "outputs": [],
   "source": [
    "df_con = df_con.fillna(0)\n",
    "df_con = df_con[df_con.Dretnd!=0]\n",
    "df_con = df_con.reset_index()\n",
    "df_con = df_con.drop('index',1)\n",
    "df_con = df_con.drop(['Dretnd_next'],axis = 1)"
   ]
  },
  {
   "cell_type": "code",
   "execution_count": 4,
   "metadata": {},
   "outputs": [
    {
     "data": {
      "text/plain": [
       "0          2005\n",
       "1          2005\n",
       "2          2005\n",
       "3          2005\n",
       "4          2005\n",
       "5          2005\n",
       "6          2005\n",
       "7          2005\n",
       "8          2005\n",
       "9          2005\n",
       "10         2005\n",
       "11         2005\n",
       "12         2005\n",
       "13         2005\n",
       "14         2005\n",
       "15         2005\n",
       "16         2005\n",
       "17         2005\n",
       "18         2005\n",
       "19         2005\n",
       "20         2005\n",
       "21         2005\n",
       "22         2005\n",
       "23         2005\n",
       "24         2005\n",
       "25         2005\n",
       "26         2005\n",
       "27         2005\n",
       "28         2005\n",
       "29         2005\n",
       "           ... \n",
       "7789679    2009\n",
       "7789680    2009\n",
       "7789681    2009\n",
       "7789682    2009\n",
       "7789683    2009\n",
       "7789684    2009\n",
       "7789685    2009\n",
       "7789686    2009\n",
       "7789687    2009\n",
       "7789688    2009\n",
       "7789689    2009\n",
       "7789690    2009\n",
       "7789691    2009\n",
       "7789692    2009\n",
       "7789693    2009\n",
       "7789694    2009\n",
       "7789695    2009\n",
       "7789696    2009\n",
       "7789697    2009\n",
       "7789698    2009\n",
       "7789699    2009\n",
       "7789700    2009\n",
       "7789701    2009\n",
       "7789702    2009\n",
       "7789703    2009\n",
       "7789704    2009\n",
       "7789705    2009\n",
       "7789706    2009\n",
       "7789707    2009\n",
       "7789708    2009\n",
       "Name: year, Length: 7789709, dtype: int64"
      ]
     },
     "execution_count": 4,
     "metadata": {},
     "output_type": "execute_result"
    }
   ],
   "source": [
    "df_con['Trddt'] = pd.to_datetime(df_con['Trddt'])\n",
    "df_con['year'] = df_con['Trddt'].dt.year"
   ]
  },
  {
   "cell_type": "code",
   "execution_count": 5,
   "metadata": {},
   "outputs": [],
   "source": [
    "df_con[df_con['year']==2005].to_csv('con2005.csv')\n",
    "df_con[df_con['year']==2006].to_csv('con2006.csv')\n",
    "df_con[df_con['year']==2007].to_csv('con2007.csv')\n",
    "df_con[df_con['year']==2008].to_csv('con2008.csv')\n",
    "df_con[df_con['year']==2009].to_csv('con2009.csv')\n",
    "df_con[df_con['year']==2010].to_csv('con2010.csv')\n",
    "df_con[df_con['year']==2011].to_csv('con2011.csv')\n",
    "df_con[df_con['year']==2012].to_csv('con2012.csv')\n",
    "df_con[df_con['year']==2013].to_csv('con2013.csv')\n",
    "df_con[df_con['year']==2014].to_csv('con2014.csv')\n",
    "df_con[df_con['year']==2015].to_csv('con2015.csv')\n",
    "df_con[df_con['year']==2016].to_csv('con2016.csv')\n",
    "df_con[df_con['year']==2017].to_csv('con2017.csv')\n",
    "df_con[df_con['year']==2018].to_csv('con2018.csv')\n",
    "df_con[df_con['year']==2019].to_csv('con2019.csv')"
   ]
  },
  {
   "cell_type": "code",
   "execution_count": null,
   "metadata": {},
   "outputs": [],
   "source": [
    "years = ['2005','2006','2007','2008','2009','2010','2011','2012','2013','2014','2015','2016','2017','2018','2019']\n",
    "for year in years:\n",
    "    y = 'con'+year+'.csv'\n",
    "    df_con =pd.read_csv(y)\n",
    "    df_merge = pd.DataFrame()\n",
    "    for i in range(10):\n",
    "        j =7\n",
    "        name = str(i)+'_'+str(j)\n",
    "        df = df_con.iloc[i:,7].append(df_con.iloc[:i,7])\n",
    "        df = df.reset_index()\n",
    "        df = df.drop('index',1)\n",
    "        df_merge[name]=list(df.iloc[:,0])\n",
    "    df_merge['std10'] = df_merge.std(axis=1) \n",
    "    df_merge['Stkcd'] = df_con['Stkcd']\n",
    "    df_merge['Trddt'] = df_con['Trddt']\n",
    "    df1 = df_con['Dretnd']\n",
    "    df1 = df1.iloc[10:].append(df1.iloc[:10])\n",
    "    df1 = df1.reset_index()\n",
    "    df1 = df1.drop('index',1)\n",
    "    df_merge['np'] = list(df1.iloc[:,0])\n",
    "    df_merge['exp'] = np.round(df_merge['np']/df_merge['std10'],8)\n",
    "    df_merge =df_merge.sort_values(by=['Trddt'])\n",
    "    df_merge = df_merge.reset_index()\n",
    "    df_merge = df_merge.drop('index',1)\n",
    "    date = []\n",
    "    date_old = df_merge.loc[0,'Trddt']\n",
    "    d = 0\n",
    "    for i in range(df_merge.shape[0]):\n",
    "        if df_merge.loc[i,'Trddt'] == date_old:\n",
    "            date.append(d)\n",
    "        else:\n",
    "            d += 1\n",
    "            date.append(d)\n",
    "            date_old = df_merge.loc[i,'Trddt']\n",
    "    df_merge['date'] = date\n",
    "    goal = df_merge.groupby('date')['exp'].rank(ascending=0,method='dense')\n",
    "    df_out = pd.DataFrame()\n",
    "    df_out['Trddt'] = df_merge['Trddt']\n",
    "    df_out['Stkcd'] = df_merge['Stkcd']\n",
    "    df_out['goal'] = goal\n",
    "    df_out['exp'] = df_merge['exp']\n",
    "    df_out = df_out.sort_values(by=['Stkcd','Trddt'])\n",
    "    n = 'df_out'+year+'.csv'\n",
    "    df_out.to_csv(n)"
   ]
  }
 ],
 "metadata": {
  "@webio": {
   "lastCommId": null,
   "lastKernelId": null
  },
  "kernelspec": {
   "display_name": "Python 3",
   "language": "python",
   "name": "python3"
  },
  "language_info": {
   "codemirror_mode": {
    "name": "ipython",
    "version": 3
   },
   "file_extension": ".py",
   "mimetype": "text/x-python",
   "name": "python",
   "nbconvert_exporter": "python",
   "pygments_lexer": "ipython3",
   "version": "3.6.0"
  }
 },
 "nbformat": 4,
 "nbformat_minor": 2
}
